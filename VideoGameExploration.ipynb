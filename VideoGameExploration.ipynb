{
 "cells": [
  {
   "cell_type": "markdown",
   "metadata": {
    "colab_type": "text",
    "id": "K4JnnpkExyFc"
   },
   "source": [
    "# Data Exploration: Video Game Sales\n",
    "\n",
    "\n",
    "BRIEF: We are creating a marketing strategy for selling video games in different categories, on multiple platforms, and in different regions. Based on historical sales data, which game releases require differentiated marketing strategies?\n",
    "\n",
    "The 4 Stages of the Data Storytelling Pipeline:\n",
    "1. Sourcing\n",
    "2. Exploring & Transforming\n",
    "3. Interpreting\n",
    "4. Storytelling"
   ]
  },
  {
   "cell_type": "markdown",
   "metadata": {
    "colab_type": "text",
    "id": "HqzZdhR5zNIo"
   },
   "source": [
    "## Your first line of code\n",
    "\n",
    "What do you need to do to have the computer print the message \"Hello, World\"?"
   ]
  },
  {
   "cell_type": "code",
   "execution_count": 1,
   "metadata": {
    "colab": {},
    "colab_type": "code",
    "id": "dkLAeIciwNwH"
   },
   "outputs": [
    {
     "ename": "SyntaxError",
     "evalue": "Missing parentheses in call to 'print'. Did you mean print('hello')? (<ipython-input-1-5a1ef41e7057>, line 1)",
     "output_type": "error",
     "traceback": [
      "\u001b[0;36m  File \u001b[0;32m\"<ipython-input-1-5a1ef41e7057>\"\u001b[0;36m, line \u001b[0;32m1\u001b[0m\n\u001b[0;31m    print 'hello'\u001b[0m\n\u001b[0m                ^\u001b[0m\n\u001b[0;31mSyntaxError\u001b[0m\u001b[0;31m:\u001b[0m Missing parentheses in call to 'print'. Did you mean print('hello')?\n"
     ]
    }
   ],
   "source": [
    "print 'hello'"
   ]
  },
  {
   "cell_type": "markdown",
   "metadata": {
    "colab_type": "text",
    "id": "r-GEyRvWK2xx"
   },
   "source": [
    "## Data Exploration\n",
    "\n",
    "\n",
    "### Stage 1: Sourcing\n",
    "\n",
    "What are some examples of interesting things you can do with pandas? How do you load pandas functionality into your notebook so that you can create your own project? How do you read and store the CSV file with pandas?"
   ]
  },
  {
   "cell_type": "code",
   "execution_count": 4,
   "metadata": {
    "colab": {
     "base_uri": "https://localhost:8080/",
     "height": 34
    },
    "colab_type": "code",
    "id": "BMO3pyLOigjp",
    "outputId": "e5c6a457-3ca8-4421-8ffd-be1781b4b94b"
   },
   "outputs": [],
   "source": [
    "import pandas as pd"
   ]
  },
  {
   "cell_type": "code",
   "execution_count": 6,
   "metadata": {
    "scrolled": true
   },
   "outputs": [],
   "source": [
    "df = pd.read_csv('vgsales.csv')"
   ]
  },
  {
   "cell_type": "markdown",
   "metadata": {
    "colab_type": "text",
    "id": "0cPJGl1XFasS"
   },
   "source": [
    "### Stage 2: Explore and Transform"
   ]
  },
  {
   "cell_type": "markdown",
   "metadata": {
    "colab_type": "text",
    "id": "RfmCuXDhG8Ry"
   },
   "source": [
    "### Initial Look at Data\n",
    "\n",
    "With a partner, use the cheatsheet and Google to figure out how to look at the data. How much data is in this dataset? How do we get a sense of what a typical row looks like? What other information would be useful from an initial survey and how can we get that information?"
   ]
  },
  {
   "cell_type": "code",
   "execution_count": null,
   "metadata": {
    "colab": {},
    "colab_type": "code",
    "id": "s5c-PLGwlyT3"
   },
   "outputs": [],
   "source": []
  },
  {
   "cell_type": "markdown",
   "metadata": {
    "colab_type": "text",
    "id": "kASYm4n-LWjw"
   },
   "source": [
    "### Descriptive Statistics\n",
    "\n",
    "Write 3 statistical questions about the data, then use Python and pandas to answer them."
   ]
  },
  {
   "cell_type": "code",
   "execution_count": null,
   "metadata": {
    "colab": {},
    "colab_type": "code",
    "id": "sL1T_xVr-3sY"
   },
   "outputs": [],
   "source": []
  },
  {
   "cell_type": "markdown",
   "metadata": {
    "colab_type": "text",
    "id": "_G7UuqZm_NhX"
   },
   "source": [
    "### Creating a bar graph\n",
    "\n",
    "How many games were released each year?\n",
    "\n",
    "Write two more trend or comparison questions and create graphs that answer them.\n",
    "\n",
    "Extension: How can you modify the appearance of your graph?"
   ]
  },
  {
   "cell_type": "code",
   "execution_count": null,
   "metadata": {
    "colab": {},
    "colab_type": "code",
    "id": "GA4wBH8x_yCv"
   },
   "outputs": [],
   "source": []
  },
  {
   "cell_type": "markdown",
   "metadata": {
    "colab_type": "text",
    "id": "-_zz_W1cANyy"
   },
   "source": [
    "### Graphing bivariate trends\n",
    "\n",
    "How many games were released on each platform each year? What's the most interpretable way to display that data? Use the cheatsheet for ideas on how you might get started."
   ]
  },
  {
   "cell_type": "code",
   "execution_count": null,
   "metadata": {},
   "outputs": [],
   "source": []
  },
  {
   "cell_type": "markdown",
   "metadata": {
    "colab_type": "text",
    "id": "Hs16vHJqWt9q"
   },
   "source": [
    "## Stage 3: Interpreting\n",
    "\n",
    "What are the most popular platforms in the dataset? In the real world, what kinds of categories of platforms are there? How long do publishers release games for each platform?\n"
   ]
  },
  {
   "cell_type": "code",
   "execution_count": null,
   "metadata": {
    "colab": {},
    "colab_type": "code",
    "id": "IFztlnv5eMxU"
   },
   "outputs": [],
   "source": []
  },
  {
   "cell_type": "markdown",
   "metadata": {
    "colab_type": "text",
    "id": "xTj-2_nIXAlp"
   },
   "source": [
    " ## Stage 4: Storytelling\n",
    " \n",
    "It's time to define our marketing strategy. Based on what you've seen and discovered, write a one sentence \"thesis\" that is supported by the data. Using a combination of text, code, visualization, background research, and/or speaking, create a 5 minute presentation about video game sales that demonstrates why this thesis is true."
   ]
  },
  {
   "cell_type": "code",
   "execution_count": null,
   "metadata": {
    "colab": {},
    "colab_type": "code",
    "id": "N2KTgliNeMFl"
   },
   "outputs": [],
   "source": [
    " "
   ]
  },
  {
   "cell_type": "markdown",
   "metadata": {},
   "source": [
    "#### Ignore below"
   ]
  },
  {
   "cell_type": "code",
   "execution_count": 1,
   "metadata": {},
   "outputs": [],
   "source": [
    "%matplotlib inline"
   ]
  }
 ],
 "metadata": {
  "colab": {
   "collapsed_sections": [],
   "name": "VideoGameExploration - Empty.ipynb",
   "provenance": [],
   "version": "0.3.2"
  },
  "kernelspec": {
   "display_name": "Python 3",
   "language": "python",
   "name": "python3"
  },
  "language_info": {
   "codemirror_mode": {
    "name": "ipython",
    "version": 3
   },
   "file_extension": ".py",
   "mimetype": "text/x-python",
   "name": "python",
   "nbconvert_exporter": "python",
   "pygments_lexer": "ipython3",
   "version": "3.7.1"
  }
 },
 "nbformat": 4,
 "nbformat_minor": 1
}
