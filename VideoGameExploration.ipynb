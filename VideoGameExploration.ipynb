{
  "nbformat": 4,
  "nbformat_minor": 0,
  "metadata": {
    "colab": {
      "name": "VideoGameExploration - Empty.ipynb",
      "version": "0.3.2",
      "provenance": [],
      "collapsed_sections": []
    },
    "kernelspec": {
      "name": "python3",
      "display_name": "Python 3"
    }
  },
  "cells": [
    {
      "cell_type": "markdown",
      "metadata": {
        "id": "K4JnnpkExyFc",
        "colab_type": "text"
      },
      "source": [
        "# Data Exploration: Video Game Sales\n",
        "\n",
        "\n",
        "BRIEF: We are creating a marketing strategy for selling video games in different categories, on multiple platforms, and in different regions. Based on historical sales data, which game releases require differentiated marketing strategies?\n",
        "\n",
        "The 4 Stages of the Data Storytelling Pipeline:\n",
        "1. Sourcing\n",
        "2. Exploring & Transforming\n",
        "3. Interpreting\n",
        "4. Storytelling"
      ]
    },
    {
      "cell_type": "markdown",
      "metadata": {
        "id": "HqzZdhR5zNIo",
        "colab_type": "text"
      },
      "source": [
        "## Your first line of code\n",
        "\n",
        "What do you need to do to have the computer print the message \"Hello, World\"?"
      ]
    },
    {
      "cell_type": "code",
      "metadata": {
        "id": "dkLAeIciwNwH",
        "colab_type": "code",
        "colab": {}
      },
      "source": [
        ""
      ],
      "execution_count": 0,
      "outputs": []
    },
    {
      "cell_type": "markdown",
      "metadata": {
        "id": "r-GEyRvWK2xx",
        "colab_type": "text"
      },
      "source": [
        "## Data Exploration\n",
        "\n",
        "\n",
        "### Stage 1: Sourcing\n",
        "\n",
        "What are some examples of interesting things you can do with pandas? How do you load pandas functionality into your notebook so that you can create your own project? How do you read and store the CSV file with pandas?"
      ]
    },
    {
      "cell_type": "code",
      "metadata": {
        "id": "BMO3pyLOigjp",
        "colab_type": "code",
        "outputId": "e5c6a457-3ca8-4421-8ffd-be1781b4b94b",
        "colab": {
          "base_uri": "https://localhost:8080/",
          "height": 34
        }
      },
      "source": [
        "# Data sourcing tbd -- for now, run this\n",
        "\n",
        "import pandas as pd\n",
        "from google.colab import drive\n",
        "drive.mount(\"/content/drive\")\n",
        "df = pd.read_csv(\"/content/drive/Team Drives/Decoded NY/Content Team/Data Academy/Product development/Module 1: Data Insights/Day 1: DSiaD/vgsales.csv\")"
      ],
      "execution_count": 0,
      "outputs": [
        {
          "output_type": "stream",
          "text": [
            "Drive already mounted at /content/drive; to attempt to forcibly remount, call drive.mount(\"/content/drive\", force_remount=True).\n"
          ],
          "name": "stdout"
        }
      ]
    },
    {
      "cell_type": "code",
      "metadata": {
        "id": "wGq7R_hsV-Sp",
        "colab_type": "code",
        "colab": {}
      },
      "source": [
        ""
      ],
      "execution_count": 0,
      "outputs": []
    },
    {
      "cell_type": "markdown",
      "metadata": {
        "id": "0cPJGl1XFasS",
        "colab_type": "text"
      },
      "source": [
        "### Stage 2: Explore and Transform"
      ]
    },
    {
      "cell_type": "code",
      "metadata": {
        "id": "IOtlv1l5wVhz",
        "colab_type": "code",
        "colab": {}
      },
      "source": [
        ""
      ],
      "execution_count": 0,
      "outputs": []
    },
    {
      "cell_type": "markdown",
      "metadata": {
        "id": "RfmCuXDhG8Ry",
        "colab_type": "text"
      },
      "source": [
        "### Initial Look at Data\n",
        "\n",
        "With a partner, use the cheatsheet and Google to figure out how to look at the data. How much data is in this dataset? How do we get a sense of what a typical row looks like? What other information would be useful from an initial survey and how can we get that information?"
      ]
    },
    {
      "cell_type": "code",
      "metadata": {
        "id": "s5c-PLGwlyT3",
        "colab_type": "code",
        "colab": {}
      },
      "source": [
        ""
      ],
      "execution_count": 0,
      "outputs": []
    },
    {
      "cell_type": "markdown",
      "metadata": {
        "id": "kASYm4n-LWjw",
        "colab_type": "text"
      },
      "source": [
        "### Descriptive Statistics\n",
        "\n",
        "Write 3 statistical questions about the data, then use Python and pandas to answer them."
      ]
    },
    {
      "cell_type": "code",
      "metadata": {
        "id": "sL1T_xVr-3sY",
        "colab_type": "code",
        "colab": {}
      },
      "source": [
        ""
      ],
      "execution_count": 0,
      "outputs": []
    },
    {
      "cell_type": "markdown",
      "metadata": {
        "id": "_G7UuqZm_NhX",
        "colab_type": "text"
      },
      "source": [
        "### Creating a bar graph\n",
        "\n",
        "How many games were released each year?\n",
        "\n",
        "Write two more trend or comparison questions and create graphs that answer them.\n",
        "\n",
        "Extension: How can you modify the appearance of your graph?"
      ]
    },
    {
      "cell_type": "code",
      "metadata": {
        "id": "GA4wBH8x_yCv",
        "colab_type": "code",
        "colab": {}
      },
      "source": [
        ""
      ],
      "execution_count": 0,
      "outputs": []
    },
    {
      "cell_type": "markdown",
      "metadata": {
        "id": "-_zz_W1cANyy",
        "colab_type": "text"
      },
      "source": [
        "### Graphing bivariate trends\n",
        "\n",
        "How many games were released on each platform each year? What's the most interpretable way to display that data? Use the cheatsheet for ideas on how you might get started."
      ]
    },
    {
      "cell_type": "code",
      "metadata": {
        "id": "_oMnjDuSeNWk",
        "colab_type": "code",
        "colab": {}
      },
      "source": [
        ""
      ],
      "execution_count": 0,
      "outputs": []
    },
    {
      "cell_type": "markdown",
      "metadata": {
        "id": "Hs16vHJqWt9q",
        "colab_type": "text"
      },
      "source": [
        "## Stage 3: Interpreting\n",
        "\n",
        "What are the most popular platforms in the dataset? In the real world, what kinds of categories of platforms are there? How long do publishers release games for each platform?\n"
      ]
    },
    {
      "cell_type": "code",
      "metadata": {
        "id": "IFztlnv5eMxU",
        "colab_type": "code",
        "colab": {}
      },
      "source": [
        ""
      ],
      "execution_count": 0,
      "outputs": []
    },
    {
      "cell_type": "markdown",
      "metadata": {
        "id": "xTj-2_nIXAlp",
        "colab_type": "text"
      },
      "source": [
        " ## Stage 4: Storytelling\n",
        " \n",
        "It's time to define our marketing strategy. Based on what you've seen and discovered, write a one sentence \"thesis\" that is supported by the data. Using a combination of text, code, visualization, background research, and/or speaking, create a 5 minute presentation about video game sales that demonstrates why this thesis is true."
      ]
    },
    {
      "cell_type": "code",
      "metadata": {
        "id": "N2KTgliNeMFl",
        "colab_type": "code",
        "colab": {}
      },
      "source": [
        " "
      ],
      "execution_count": 0,
      "outputs": []
    }
  ]
}